{
  "nbformat": 4,
  "nbformat_minor": 0,
  "metadata": {
    "colab": {
      "name": "CNN_for_CIFAR10.ipynb",
      "provenance": [],
      "collapsed_sections": [],
      "include_colab_link": true
    },
    "kernelspec": {
      "name": "python3",
      "display_name": "Python 3"
    }
  },
  "cells": [
    {
      "cell_type": "markdown",
      "metadata": {
        "id": "view-in-github",
        "colab_type": "text"
      },
      "source": [
        "<a href=\"https://colab.research.google.com/github/liperdio/liperdio.github.io/blob/master/CNN_for_CIFAR10.ipynb\" target=\"_parent\"><img src=\"https://colab.research.google.com/assets/colab-badge.svg\" alt=\"Open In Colab\"/></a>"
      ]
    },
    {
      "cell_type": "code",
      "metadata": {
        "id": "24mgFn4gLrYl",
        "colab_type": "code",
        "colab": {}
      },
      "source": [
        "from keras.datasets import cifar10"
      ],
      "execution_count": 0,
      "outputs": []
    },
    {
      "cell_type": "code",
      "metadata": {
        "id": "n-boK8ZZFC12",
        "colab_type": "code",
        "colab": {}
      },
      "source": [
        "#Load Cifar10 dataset\n",
        "(x_train, y_train_), (x_test, y_test_) = cifar10.load_data()"
      ],
      "execution_count": 0,
      "outputs": []
    },
    {
      "cell_type": "code",
      "metadata": {
        "id": "IsiB44raFFmz",
        "colab_type": "code",
        "colab": {}
      },
      "source": [
        "#Normalize\n",
        "x_train = x_train.astype('float32') / 255\n",
        "x_test = x_test.astype('float32') / 255"
      ],
      "execution_count": 0,
      "outputs": []
    },
    {
      "cell_type": "code",
      "metadata": {
        "id": "xfQthIXWFHmU",
        "colab_type": "code",
        "colab": {}
      },
      "source": [
        "#Convert to one-hot vector\n",
        "from keras.utils import to_categorical\n",
        "y_train = to_categorical(y_train_)\n",
        "y_test = to_categorical(y_test_)"
      ],
      "execution_count": 0,
      "outputs": []
    },
    {
      "cell_type": "code",
      "metadata": {
        "id": "8yB-zxSpFJQA",
        "colab_type": "code",
        "colab": {}
      },
      "source": [
        "#Conv2D-Conv2D-Conv2D-Flatten-Dense-Activation Model\n",
        "from keras.models import Sequential\n",
        "model = Sequential()"
      ],
      "execution_count": 0,
      "outputs": []
    },
    {
      "cell_type": "code",
      "metadata": {
        "id": "gvlvwXL9FLID",
        "colab_type": "code",
        "colab": {}
      },
      "source": [
        "from keras.layers import Conv2D, MaxPool2D, Flatten, Dense, Activation, Dropout"
      ],
      "execution_count": 0,
      "outputs": []
    },
    {
      "cell_type": "code",
      "metadata": {
        "id": "LDgeHXeZFNER",
        "colab_type": "code",
        "colab": {}
      },
      "source": [
        "model.add(Conv2D(filters=32, \n",
        "                kernel_size=(3, 3),\n",
        "                activation='relu',\n",
        "                input_shape=(32, 32, 3)))"
      ],
      "execution_count": 0,
      "outputs": []
    },
    {
      "cell_type": "code",
      "metadata": {
        "id": "SXbChBH1FQ10",
        "colab_type": "code",
        "colab": {}
      },
      "source": [
        "model.add(MaxPool2D())"
      ],
      "execution_count": 0,
      "outputs": []
    },
    {
      "cell_type": "code",
      "metadata": {
        "id": "ioutK6xnFTS0",
        "colab_type": "code",
        "colab": {}
      },
      "source": [
        "model.add(Conv2D(filters=64,\n",
        "                kernel_size=(3, 3),\n",
        "                activation='relu'))\n",
        "model.add(MaxPool2D())"
      ],
      "execution_count": 0,
      "outputs": []
    },
    {
      "cell_type": "code",
      "metadata": {
        "id": "hfERo0bsFVbC",
        "colab_type": "code",
        "colab": {}
      },
      "source": [
        "model.add(Conv2D(filters=64,\n",
        "                kernel_size=(3, 3),\n",
        "                activation='relu'))\n",
        "model.add(MaxPool2D())"
      ],
      "execution_count": 0,
      "outputs": []
    },
    {
      "cell_type": "code",
      "metadata": {
        "id": "VYLUmxetFZoy",
        "colab_type": "code",
        "colab": {
          "base_uri": "https://localhost:8080/",
          "height": 87
        },
        "outputId": "929c417c-63e8-4e60-f166-d5e0e9af06fc"
      },
      "source": [
        "model.add(Flatten())\n",
        "model.add(Dropout(0.2))\n",
        "model.add(Dense(10, activation='softmax'))"
      ],
      "execution_count": 26,
      "outputs": [
        {
          "output_type": "stream",
          "text": [
            "WARNING:tensorflow:From /usr/local/lib/python3.6/dist-packages/keras/backend/tensorflow_backend.py:3733: calling dropout (from tensorflow.python.ops.nn_ops) with keep_prob is deprecated and will be removed in a future version.\n",
            "Instructions for updating:\n",
            "Please use `rate` instead of `keep_prob`. Rate should be set to `rate = 1 - keep_prob`.\n"
          ],
          "name": "stdout"
        }
      ]
    },
    {
      "cell_type": "code",
      "metadata": {
        "id": "AqNeL2nvFbAE",
        "colab_type": "code",
        "colab": {}
      },
      "source": [
        "model.compile(optimizer='adam',\n",
        "             loss='categorical_crossentropy',\n",
        "             metrics=['accuracy'])"
      ],
      "execution_count": 0,
      "outputs": []
    },
    {
      "cell_type": "code",
      "metadata": {
        "id": "3LHCNjWMFcXz",
        "colab_type": "code",
        "outputId": "411915c2-ca18-4705-b4ba-6ddeb375ee6b",
        "colab": {
          "base_uri": "https://localhost:8080/",
          "height": 470
        }
      },
      "source": [
        "print(model.summary())"
      ],
      "execution_count": 28,
      "outputs": [
        {
          "output_type": "stream",
          "text": [
            "Model: \"sequential_2\"\n",
            "_________________________________________________________________\n",
            "Layer (type)                 Output Shape              Param #   \n",
            "=================================================================\n",
            "conv2d_4 (Conv2D)            (None, 30, 30, 32)        896       \n",
            "_________________________________________________________________\n",
            "max_pooling2d_4 (MaxPooling2 (None, 15, 15, 32)        0         \n",
            "_________________________________________________________________\n",
            "conv2d_5 (Conv2D)            (None, 13, 13, 64)        18496     \n",
            "_________________________________________________________________\n",
            "max_pooling2d_5 (MaxPooling2 (None, 6, 6, 64)          0         \n",
            "_________________________________________________________________\n",
            "conv2d_6 (Conv2D)            (None, 4, 4, 64)          36928     \n",
            "_________________________________________________________________\n",
            "max_pooling2d_6 (MaxPooling2 (None, 2, 2, 64)          0         \n",
            "_________________________________________________________________\n",
            "flatten_2 (Flatten)          (None, 256)               0         \n",
            "_________________________________________________________________\n",
            "dropout_1 (Dropout)          (None, 256)               0         \n",
            "_________________________________________________________________\n",
            "dense_2 (Dense)              (None, 10)                2570      \n",
            "=================================================================\n",
            "Total params: 58,890\n",
            "Trainable params: 58,890\n",
            "Non-trainable params: 0\n",
            "_________________________________________________________________\n",
            "None\n"
          ],
          "name": "stdout"
        }
      ]
    },
    {
      "cell_type": "code",
      "metadata": {
        "id": "WjsOlQypFfOo",
        "colab_type": "code",
        "outputId": "7d385780-2b66-4f0b-fe96-e7e2d01358d0",
        "colab": {
          "base_uri": "https://localhost:8080/",
          "height": 706
        }
      },
      "source": [
        "history = model.fit(x_train, y_train, batch_size=50, epochs=20, verbose=1, validation_data=(x_test, y_test))"
      ],
      "execution_count": 29,
      "outputs": [
        {
          "output_type": "stream",
          "text": [
            "Train on 50000 samples, validate on 10000 samples\n",
            "Epoch 1/20\n",
            "50000/50000 [==============================] - 70s 1ms/step - loss: 1.6317 - acc: 0.4004 - val_loss: 1.3308 - val_acc: 0.5270\n",
            "Epoch 2/20\n",
            "50000/50000 [==============================] - 70s 1ms/step - loss: 1.3075 - acc: 0.5304 - val_loss: 1.2170 - val_acc: 0.5694\n",
            "Epoch 3/20\n",
            "50000/50000 [==============================] - 70s 1ms/step - loss: 1.1749 - acc: 0.5838 - val_loss: 1.0731 - val_acc: 0.6251\n",
            "Epoch 4/20\n",
            "50000/50000 [==============================] - 70s 1ms/step - loss: 1.0848 - acc: 0.6179 - val_loss: 1.0352 - val_acc: 0.6447\n",
            "Epoch 5/20\n",
            "50000/50000 [==============================] - 70s 1ms/step - loss: 1.0251 - acc: 0.6399 - val_loss: 0.9540 - val_acc: 0.6650\n",
            "Epoch 6/20\n",
            "50000/50000 [==============================] - 71s 1ms/step - loss: 0.9698 - acc: 0.6617 - val_loss: 0.9302 - val_acc: 0.6761\n",
            "Epoch 7/20\n",
            "50000/50000 [==============================] - 70s 1ms/step - loss: 0.9307 - acc: 0.6747 - val_loss: 0.8890 - val_acc: 0.6916\n",
            "Epoch 8/20\n",
            "50000/50000 [==============================] - 69s 1ms/step - loss: 0.8961 - acc: 0.6878 - val_loss: 0.8793 - val_acc: 0.6968\n",
            "Epoch 9/20\n",
            "50000/50000 [==============================] - 70s 1ms/step - loss: 0.8629 - acc: 0.6986 - val_loss: 0.8831 - val_acc: 0.6899\n",
            "Epoch 10/20\n",
            "50000/50000 [==============================] - 69s 1ms/step - loss: 0.8278 - acc: 0.7102 - val_loss: 0.8584 - val_acc: 0.7043\n",
            "Epoch 11/20\n",
            "50000/50000 [==============================] - 68s 1ms/step - loss: 0.8063 - acc: 0.7173 - val_loss: 0.8581 - val_acc: 0.7090\n",
            "Epoch 12/20\n",
            "50000/50000 [==============================] - 68s 1ms/step - loss: 0.7782 - acc: 0.7270 - val_loss: 0.8459 - val_acc: 0.7110\n",
            "Epoch 13/20\n",
            "50000/50000 [==============================] - 69s 1ms/step - loss: 0.7563 - acc: 0.7327 - val_loss: 0.8135 - val_acc: 0.7253\n",
            "Epoch 14/20\n",
            "50000/50000 [==============================] - 69s 1ms/step - loss: 0.7338 - acc: 0.7445 - val_loss: 0.8109 - val_acc: 0.7226\n",
            "Epoch 15/20\n",
            "50000/50000 [==============================] - 69s 1ms/step - loss: 0.7204 - acc: 0.7476 - val_loss: 0.8242 - val_acc: 0.7199\n",
            "Epoch 16/20\n",
            "50000/50000 [==============================] - 69s 1ms/step - loss: 0.7019 - acc: 0.7522 - val_loss: 0.8149 - val_acc: 0.7234\n",
            "Epoch 17/20\n",
            "50000/50000 [==============================] - 69s 1ms/step - loss: 0.6845 - acc: 0.7591 - val_loss: 0.7691 - val_acc: 0.7394\n",
            "Epoch 18/20\n",
            "50000/50000 [==============================] - 68s 1ms/step - loss: 0.6652 - acc: 0.7663 - val_loss: 0.7774 - val_acc: 0.7372\n",
            "Epoch 19/20\n",
            "50000/50000 [==============================] - 69s 1ms/step - loss: 0.6477 - acc: 0.7715 - val_loss: 0.7907 - val_acc: 0.7316\n",
            "Epoch 20/20\n",
            "50000/50000 [==============================] - 68s 1ms/step - loss: 0.6394 - acc: 0.7745 - val_loss: 0.7825 - val_acc: 0.7383\n"
          ],
          "name": "stdout"
        }
      ]
    },
    {
      "cell_type": "code",
      "metadata": {
        "id": "SoahyiFZFg0s",
        "colab_type": "code",
        "outputId": "b8c092a8-486e-4aed-e590-efd32210984f",
        "colab": {
          "base_uri": "https://localhost:8080/",
          "height": 67
        }
      },
      "source": [
        "loss, acc = model.evaluate(x_test, y_test, batch_size=50)\n",
        "print(\"\\nTest accuracy: %.1f%%\" % (100.0 * acc))\n"
      ],
      "execution_count": 30,
      "outputs": [
        {
          "output_type": "stream",
          "text": [
            "10000/10000 [==============================] - 4s 403us/step\n",
            "\n",
            "Test accuracy: 73.8%\n"
          ],
          "name": "stdout"
        }
      ]
    }
  ]
}